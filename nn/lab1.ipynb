{
 "cells": [
  {
   "cell_type": "code",
   "execution_count": 24,
   "metadata": {
    "collapsed": true
   },
   "outputs": [],
   "source": [
    "from __future__ import annotations\n",
    "\n",
    "import os\n",
    "import numpy as np\n",
    "import pandas as pd\n",
    "import matplotlib.pyplot as plt\n",
    "from scipy.stats import uniform\n",
    "import math\n",
    "from typing import Tuple, Collection\n",
    "from src import *\n"
   ]
  },
  {
   "cell_type": "markdown",
   "source": [
    "# Steps"
   ],
   "metadata": {
    "collapsed": false
   }
  },
  {
   "cell_type": "markdown",
   "source": [
    "Loading data"
   ],
   "metadata": {
    "collapsed": false
   }
  },
  {
   "cell_type": "code",
   "execution_count": 79,
   "outputs": [],
   "source": [
    "df = pd.read_csv(\"../mio1/regression/steps-large-training.csv\")\n",
    "X = np.asarray(df[\"x\"])\n",
    "y = np.asarray(df[\"y\"])"
   ],
   "metadata": {
    "collapsed": false
   }
  },
  {
   "cell_type": "markdown",
   "source": [
    "Creating MLP in architecture with (1, 5, 1) (we don't need more for this task) and proper weights."
   ],
   "metadata": {
    "collapsed": false
   }
  },
  {
   "cell_type": "code",
   "execution_count": 81,
   "outputs": [
    {
     "data": {
      "text/plain": "<matplotlib.collections.PathCollection at 0x7fdc2b4b7400>"
     },
     "execution_count": 81,
     "metadata": {},
     "output_type": "execute_result"
    },
    {
     "data": {
      "text/plain": "<Figure size 432x288 with 1 Axes>",
      "image/png": "[encoded data removed]"
     },
     "metadata": {
      "needs_background": "light"
     },
     "output_type": "display_data"
    }
   ],
   "source": [
    "layers = [LinearLayer(1, 5, weights=np.asarray((1000,1000,1000,0, 0)).reshape(1,5), bias_values=np.asarray((500,-500,-1500,0, 0)).reshape(5)),\n",
    "          sigmoid,\n",
    "          LinearLayer(5, 1, weights=np.asarray((80,80,80, 0, 0)).reshape(5,1), bias_values=np.asarray(-80).reshape(1)),\n",
    "          ]\n",
    "net = MLP(layers)\n",
    "plt.scatter(X, y)\n",
    "plt.scatter(X, net(X))"
   ],
   "metadata": {
    "collapsed": false
   }
  },
  {
   "cell_type": "markdown",
   "source": [
    "As we can see the network approximates the target function almost perfectly."
   ],
   "metadata": {
    "collapsed": false
   }
  },
  {
   "cell_type": "code",
   "execution_count": 84,
   "outputs": [
    {
     "data": {
      "text/plain": "2.090984203763538"
     },
     "execution_count": 84,
     "metadata": {},
     "output_type": "execute_result"
    }
   ],
   "source": [
    "mse(y, net(X))"
   ],
   "metadata": {
    "collapsed": false
   }
  },
  {
   "cell_type": "markdown",
   "source": [
    "MSE is pretty low and we could make it arbitrarily small by increasing weights with constant bias/weight ratio"
   ],
   "metadata": {
    "collapsed": false
   }
  },
  {
   "cell_type": "markdown",
   "source": [
    "# Square"
   ],
   "metadata": {
    "collapsed": false
   }
  },
  {
   "cell_type": "code",
   "execution_count": 85,
   "outputs": [],
   "source": [
    "df = pd.read_csv(\"../mio1/regression/square-simple-training.csv\")\n",
    "X = np.asarray(df[\"x\"])\n",
    "y = np.asarray(df[\"y\"])"
   ],
   "metadata": {
    "collapsed": false
   }
  },
  {
   "cell_type": "markdown",
   "source": [
    "Loadig weights into (1, 5, 5, 1) architecture, as smaller doesn't work."
   ],
   "metadata": {
    "collapsed": false
   }
  },
  {
   "cell_type": "code",
   "execution_count": 86,
   "outputs": [
    {
     "data": {
      "text/plain": "<matplotlib.collections.PathCollection at 0x7fdc2b044400>"
     },
     "execution_count": 86,
     "metadata": {},
     "output_type": "execute_result"
    },
    {
     "data": {
      "text/plain": "<Figure size 432x288 with 1 Axes>",
      "image/png": "[encoded data removed]"
     },
     "metadata": {
      "needs_background": "light"
     },
     "output_type": "display_data"
    }
   ],
   "source": [
    "layers = [LinearLayer(1, 5, weights=np.asarray([[ -5.3381],\n",
    "                                                [ -1.2753],\n",
    "                                                [ -4.3002],\n",
    "                                                [-21.0019],\n",
    "                                                [ -8.5443]]).T,\n",
    "                      bias_values=np.asarray([ 1.4595, -2.0847,  5.3267, 42.6468, 16.2957])),\n",
    "          sigmoid,\n",
    "          LinearLayer(5, 5, weights=np.asarray([[ 10.5775,  -2.8416,   1.5680,  16.8754,  -2.9224],\n",
    "                                                [  2.3616, -16.7397,   7.5676,   3.1040,   3.5625],\n",
    "                                                [  2.2611, -20.8859,   3.0553,   7.7675,   6.8939],\n",
    "                                                [  6.7120, -25.3992,   6.7228,   4.9615,   5.7341],\n",
    "                                                [  6.9819, -31.3709,  10.4192,   5.9040,   7.1255]]).T,\n",
    "                      bias_values=np.asarray([-14.7321, -13.1291, -13.0058, -13.1236, -14.0321])),\n",
    "          sigmoid,\n",
    "          LinearLayer(5, 1, weights= np.asarray([[-56.2364, -99.7419, -75.8010, -77.9080, -73.2831]]).T, bias_values= np.asarray([227.5033]))\n",
    "          ]\n",
    "net = MLP(layers)\n",
    "plt.scatter(X, y)\n",
    "plt.scatter(X, net(X))"
   ],
   "metadata": {
    "collapsed": false
   }
  },
  {
   "cell_type": "code",
   "execution_count": 87,
   "outputs": [
    {
     "data": {
      "text/plain": "0.13445663839047742"
     },
     "execution_count": 87,
     "metadata": {},
     "output_type": "execute_result"
    }
   ],
   "source": [
    "mse(net(X), y)"
   ],
   "metadata": {
    "collapsed": false
   }
  },
  {
   "cell_type": "markdown",
   "source": [
    "MSE is pretty low there too."
   ],
   "metadata": {
    "collapsed": false
   }
  }
 ],
 "metadata": {
  "kernelspec": {
   "display_name": "base",
   "language": "python",
   "name": "python3"
  },
  "language_info": {
   "codemirror_mode": {
    "name": "ipython",
    "version": 3
   },
   "file_extension": ".py",
   "mimetype": "text/x-python",
   "name": "python",
   "nbconvert_exporter": "python",
   "pygments_lexer": "ipython3",
   "version": "3.8.11"
  },
  "vscode": {
   "interpreter": {
    "hash": "3520feb774e366986ba7e177301d6d9661e112af2d79be250d1b980ec172ab16"
   }
  }
 },
 "nbformat": 4,
 "nbformat_minor": 0
}
