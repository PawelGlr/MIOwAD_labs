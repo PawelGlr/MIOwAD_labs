{
 "cells": [
  {
   "cell_type": "code",
   "execution_count": 1,
   "metadata": {
    "collapsed": true
   },
   "outputs": [],
   "source": [
    "import os\n",
    "import matplotlib.pyplot as plt\n",
    "import numpy as np\n",
    "import pandas as pd\n",
    "from pickle import dump, load\n",
    "\n",
    "from nn.src.Losses import MSE\n",
    "from nn.src.Optimizers import SGD\n",
    "from nn.src.utils import DataLoader, make_simple_sequential\n",
    "\n",
    "os.chdir(\"..\")"
   ]
  },
  {
   "cell_type": "markdown",
   "source": [
    "# Loading train data"
   ],
   "metadata": {
    "collapsed": false
   }
  },
  {
   "cell_type": "code",
   "execution_count": 15,
   "outputs": [],
   "source": [
    "# df = pd.read_csv(\"../mio1/regression/square-simple-training.csv\")\n",
    "# df = pd.read_csv(\"../mio1/regression/steps-small-training.csv\")\n",
    "df = pd.read_csv(\"../mio1/regression/multimodal-large-training.csv\")\n",
    "X_full = np.asarray(df[\"x\"])\n",
    "# y_full = np.asarray(df[\"y\"])/50\n",
    "y_full = np.asarray(df[\"y\"])/200"
   ],
   "metadata": {
    "collapsed": false
   }
  },
  {
   "cell_type": "markdown",
   "source": [
    "# Training"
   ],
   "metadata": {
    "collapsed": false
   }
  },
  {
   "cell_type": "code",
   "execution_count": 16,
   "outputs": [
    {
     "name": "stdout",
     "output_type": "stream",
     "text": [
      "0 0.12712309110730316\n"
     ]
    },
    {
     "data": {
      "text/plain": "<Figure size 432x288 with 1 Axes>",
      "image/png": "[encoded data removed]"
     },
     "metadata": {
      "needs_background": "light"
     },
     "output_type": "display_data"
    },
    {
     "name": "stdout",
     "output_type": "stream",
     "text": [
      "1000 0.0075013687470643665\n"
     ]
    },
    {
     "data": {
      "text/plain": "<Figure size 432x288 with 1 Axes>",
      "image/png": "[encoded data removed]"
     },
     "metadata": {
      "needs_background": "light"
     },
     "output_type": "display_data"
    },
    {
     "ename": "KeyboardInterrupt",
     "evalue": "",
     "output_type": "error",
     "traceback": [
      "\u001B[0;31m---------------------------------------------------------------------------\u001B[0m",
      "\u001B[0;31mKeyboardInterrupt\u001B[0m                         Traceback (most recent call last)",
      "Input \u001B[0;32mIn [16]\u001B[0m, in \u001B[0;36m<module>\u001B[0;34m\u001B[0m\n\u001B[1;32m      9\u001B[0m     gradient \u001B[38;5;241m=\u001B[39m mse\u001B[38;5;241m.\u001B[39mderriv()\n\u001B[1;32m     10\u001B[0m     net\u001B[38;5;241m.\u001B[39mbackward(gradient)\n\u001B[0;32m---> 11\u001B[0m     \u001B[43moptim\u001B[49m\u001B[38;5;241;43m.\u001B[39;49m\u001B[43mstep\u001B[49m\u001B[43m(\u001B[49m\u001B[43m)\u001B[49m\n\u001B[1;32m     12\u001B[0m \u001B[38;5;28;01mif\u001B[39;00m \u001B[38;5;129;01mnot\u001B[39;00m epoch \u001B[38;5;241m%\u001B[39m \u001B[38;5;241m1000\u001B[39m:\n\u001B[1;32m     13\u001B[0m     plt\u001B[38;5;241m.\u001B[39mcla()\n",
      "File \u001B[0;32m~/studia/MIOwAD/MIOwAD_labs/nn/src.py:662\u001B[0m, in \u001B[0;36mAdam.step\u001B[0;34m(self)\u001B[0m\n\u001B[1;32m    659\u001B[0m \u001B[38;5;28;01mfor\u001B[39;00m key \u001B[38;5;129;01min\u001B[39;00m layer_gradients:\n\u001B[1;32m    660\u001B[0m     layer_first_moment[key] \u001B[38;5;241m=\u001B[39m \u001B[38;5;28mself\u001B[39m\u001B[38;5;241m.\u001B[39mbeta_1 \u001B[38;5;241m*\u001B[39m layer_first_moment[key] \u001B[38;5;241m-\u001B[39m (\u001B[38;5;241m1\u001B[39m \u001B[38;5;241m-\u001B[39m \u001B[38;5;28mself\u001B[39m\u001B[38;5;241m.\u001B[39mbeta_1) \u001B[38;5;241m*\u001B[39m layer_gradients[\n\u001B[1;32m    661\u001B[0m         key]\n\u001B[0;32m--> 662\u001B[0m     layer_second_moment[key] \u001B[38;5;241m=\u001B[39m \u001B[38;5;28mself\u001B[39m\u001B[38;5;241m.\u001B[39mbeta_2 \u001B[38;5;241m*\u001B[39m layer_second_moment[key] \u001B[38;5;241m+\u001B[39m \u001B[43m(\u001B[49m\u001B[38;5;241;43m1\u001B[39;49m\u001B[43m \u001B[49m\u001B[38;5;241;43m-\u001B[39;49m\u001B[43m \u001B[49m\u001B[38;5;28;43mself\u001B[39;49m\u001B[38;5;241;43m.\u001B[39;49m\u001B[43mbeta_2\u001B[49m\u001B[43m)\u001B[49m\u001B[43m \u001B[49m\u001B[38;5;241;43m*\u001B[39;49m\u001B[43m \u001B[49m\u001B[43mlayer_gradients\u001B[49m\u001B[43m[\u001B[49m\n\u001B[1;32m    663\u001B[0m \u001B[43m        \u001B[49m\u001B[43mkey\u001B[49m\u001B[43m]\u001B[49m\u001B[43m \u001B[49m\u001B[38;5;241;43m*\u001B[39;49m\u001B[38;5;241;43m*\u001B[39;49m\u001B[43m \u001B[49m\u001B[38;5;241;43m2\u001B[39;49m\n\u001B[1;32m    664\u001B[0m     layer_first_moment_adj[key] \u001B[38;5;241m=\u001B[39m layer_first_moment[key] \u001B[38;5;241m/\u001B[39m (\u001B[38;5;241m1\u001B[39m \u001B[38;5;241m-\u001B[39m \u001B[38;5;28mself\u001B[39m\u001B[38;5;241m.\u001B[39mbeta_1)\n\u001B[1;32m    665\u001B[0m     layer_second_moment_adj[key] \u001B[38;5;241m=\u001B[39m layer_second_moment[key] \u001B[38;5;241m/\u001B[39m (\u001B[38;5;241m1\u001B[39m \u001B[38;5;241m-\u001B[39m \u001B[38;5;28mself\u001B[39m\u001B[38;5;241m.\u001B[39mbeta_2)\n",
      "\u001B[0;31mKeyboardInterrupt\u001B[0m: "
     ]
    }
   ],
   "source": [
    "dataloader = DataLoader(X_full,y_full, batch_size=100)\n",
    "net = make_simple_sequential((1,5,5,1))\n",
    "mse = MSE()\n",
    "optim = SGD(net.layers, lr=0.1)\n",
    "for epoch in range(10**6):\n",
    "    for (X,y) in dataloader:\n",
    "        y_hat = net(X)\n",
    "        err = mse(y,y_hat)\n",
    "        gradient = mse.derriv()\n",
    "        net.backward(gradient)\n",
    "        optim.step()\n",
    "    if not epoch % 1000:\n",
    "        plt.cla()\n",
    "        print(epoch, err)\n",
    "        plt.scatter(X_full, net(X_full))\n",
    "        plt.scatter(X_full, y_full)\n",
    "        plt.show()"
   ],
   "metadata": {
    "collapsed": false
   }
  },
  {
   "cell_type": "markdown",
   "source": [
    "# Saving models"
   ],
   "metadata": {
    "collapsed": false
   }
  },
  {
   "cell_type": "code",
   "execution_count": 62,
   "outputs": [],
   "source": [
    "# dump(net, open(\"square.pkl\", \"bw\"))\n",
    "# dump(net, open(\"steps.pkl\", \"bw\"))\n",
    "# dump(net, open(\"multimodal.pkl\", \"bw\"))"
   ],
   "metadata": {
    "collapsed": false
   }
  },
  {
   "cell_type": "markdown",
   "source": [
    "# Loading models"
   ],
   "metadata": {
    "collapsed": false
   }
  },
  {
   "cell_type": "code",
   "execution_count": 2,
   "outputs": [],
   "source": [
    "net = load(open(\"square.pkl\", \"br\"))\n",
    "# net = load(open(\"steps.pkl\", \"br\"))\n",
    "# net = load(open(\"multimodal.pkl\", \"br\"))"
   ],
   "metadata": {
    "collapsed": false
   }
  },
  {
   "cell_type": "markdown",
   "source": [
    "# Loading test data"
   ],
   "metadata": {
    "collapsed": false
   }
  },
  {
   "cell_type": "code",
   "execution_count": 17,
   "outputs": [],
   "source": [
    "# df = pd.read_csv(\"../mio1/regression/square-simple-test.csv\")\n",
    "# df = pd.read_csv(\"../mio1/regression/steps-small-test.csv\")\n",
    "df = pd.read_csv(\"../mio1/regression/multimodal-large-test.csv\")\n",
    "X_full = np.asarray(df[\"x\"])\n",
    "# y_full = np.asarray(df[\"y\"])/50\n",
    "y_full = np.asarray(df[\"y\"])/200"
   ],
   "metadata": {
    "collapsed": false
   }
  },
  {
   "cell_type": "code",
   "execution_count": 18,
   "outputs": [
    {
     "data": {
      "text/plain": "25.17823347477139"
     },
     "execution_count": 18,
     "metadata": {},
     "output_type": "execute_result"
    },
    {
     "data": {
      "text/plain": "<Figure size 432x288 with 1 Axes>",
      "image/png": "[encoded data removed]"
     },
     "metadata": {
      "needs_background": "light"
     },
     "output_type": "display_data"
    }
   ],
   "source": [
    "mse = MSE()\n",
    "plt.scatter(X_full, net(X_full))\n",
    "plt.scatter(X_full, y_full)\n",
    "mse(y_full*50, net(X_full)*50)"
   ],
   "metadata": {
    "collapsed": false
   }
  },
  {
   "cell_type": "code",
   "execution_count": null,
   "outputs": [],
   "source": [],
   "metadata": {
    "collapsed": false
   }
  }
 ],
 "metadata": {
  "kernelspec": {
   "display_name": "Python 3",
   "language": "python",
   "name": "python3"
  },
  "language_info": {
   "codemirror_mode": {
    "name": "ipython",
    "version": 2
   },
   "file_extension": ".py",
   "mimetype": "text/x-python",
   "name": "python",
   "nbconvert_exporter": "python",
   "pygments_lexer": "ipython2",
   "version": "2.7.6"
  }
 },
 "nbformat": 4,
 "nbformat_minor": 0
}
